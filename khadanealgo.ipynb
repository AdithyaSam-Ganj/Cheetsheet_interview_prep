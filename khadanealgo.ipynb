{
 "cells": [
  {
   "cell_type": "markdown",
   "metadata": {},
   "source": [
    "# This is to find the sum of maximum sum sub string "
   ]
  },
  {
   "cell_type": "markdown",
   "metadata": {},
   "source": [
    "### Main algo "
   ]
  },
  {
   "cell_type": "code",
   "execution_count": 13,
   "metadata": {},
   "outputs": [
    {
     "name": "stdout",
     "output_type": "stream",
     "text": [
      "12\n"
     ]
    }
   ],
   "source": [
    "# the aim is to get the max substring \n",
    "\n",
    "# Logic of kadane algorithm \n",
    "\n",
    "# Initialize:\n",
    "    # global_max = INT_MIN\n",
    "    # local_max = 0\n",
    "# \n",
    "# Loop for each element of the array\n",
    "# \n",
    "#   (a) local_max = local_max + a[i]\n",
    "#   (b) if(global_max < local_max)\n",
    "            # global_max = local_max\n",
    "#   (c) if(local_max < 0)\n",
    "            # local_max = 0\n",
    "# return global_max\n",
    "\n",
    "k = [1,2,3,4,-5,-30,3,4,5]\n",
    "\n",
    "global_max = float('-inf')  \n",
    "\n",
    "local_max = 0\n",
    "for i in range(0, len(k)):\n",
    "    local_max = local_max + k[i]\n",
    "    if global_max < local_max:\n",
    "        global_max = local_max\n",
    "    if local_max < 0:\n",
    "        local_max = 0\n",
    "print(global_max)"
   ]
  },
  {
   "cell_type": "markdown",
   "metadata": {},
   "source": [
    "### print sub array also  "
   ]
  },
  {
   "cell_type": "code",
   "execution_count": 2,
   "metadata": {},
   "outputs": [
    {
     "name": "stdout",
     "output_type": "stream",
     "text": [
      "10 0 3\n"
     ]
    }
   ],
   "source": [
    "k = [1,2,3,4,-50, 3 ,4 ]\n",
    "\n",
    "start = 0 \n",
    "end = 0 \n",
    "new_start = 0 \n",
    "\n",
    "global_max = float('-inf')  \n",
    "local_max = 0\n",
    "\n",
    "for i in range(0, len(k)):\n",
    "\n",
    "    local_max = local_max + k[i]\n",
    "\n",
    "    if global_max < local_max:\n",
    "        global_max = local_max\n",
    "        if new_start > start : \n",
    "            start = new_start\n",
    "        end = i \n",
    "\n",
    "    if local_max < 0:\n",
    "        local_max = 0\n",
    "        new_start = i + 1 \n",
    "\n",
    "print(global_max , start , end )"
   ]
  },
  {
   "cell_type": "code",
   "execution_count": null,
   "metadata": {},
   "outputs": [],
   "source": []
  }
 ],
 "metadata": {
  "kernelspec": {
   "display_name": "base",
   "language": "python",
   "name": "python3"
  },
  "language_info": {
   "codemirror_mode": {
    "name": "ipython",
    "version": 3
   },
   "file_extension": ".py",
   "mimetype": "text/x-python",
   "name": "python",
   "nbconvert_exporter": "python",
   "pygments_lexer": "ipython3",
   "version": "3.11.7"
  }
 },
 "nbformat": 4,
 "nbformat_minor": 2
}
