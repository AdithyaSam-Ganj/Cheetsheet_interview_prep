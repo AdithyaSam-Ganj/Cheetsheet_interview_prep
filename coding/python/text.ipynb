{
 "cells": [
  {
   "cell_type": "markdown",
   "metadata": {},
   "source": [
    "# Permutations of String \n",
    "Given a string S of length N, print all permutations of the string in a separate line."
   ]
  },
  {
   "cell_type": "code",
   "execution_count": null,
   "metadata": {},
   "outputs": [],
   "source": [
    "def permute(s, answer):\n",
    "    if len(s) == 0:\n",
    "        print(answer)\n",
    "        return\n",
    "    \n",
    "    for i in range(len(s)):\n",
    "        char = s[i]\n",
    "        left_substr = s[0:i]\n",
    "        right_substr = s[i+1:]\n",
    "        rest = left_substr + right_substr\n",
    "        permute(rest, answer + char)\n",
    "\n",
    "# Example usage\n",
    "s = \"abcd\"\n",
    "permute(s, \"\")"
   ]
  },
  {
   "cell_type": "markdown",
   "metadata": {},
   "source": [
    "# Return Longest Palindrome "
   ]
  },
  {
   "cell_type": "code",
   "execution_count": 4,
   "metadata": {},
   "outputs": [
    {
     "data": {
      "text/plain": [
       "'b'"
      ]
     },
     "execution_count": 4,
     "metadata": {},
     "output_type": "execute_result"
    }
   ],
   "source": [
    "def longest_palindromic_substring(s):\n",
    "    n = len(s)\n",
    "    if n == 0:\n",
    "        return \"\"\n",
    "    \n",
    "    # Initialize variables to store the start and end of the longest palindromic substring\n",
    "    start = 0\n",
    "    end = 0\n",
    "\n",
    "    def expand_around_center(left, right):\n",
    "        while left >= 0 and right < n and s[left] == s[right]:\n",
    "            left -= 1\n",
    "            right += 1\n",
    "        return left + 1, right - 1\n",
    "    \n",
    "    for i in range(n):\n",
    "        # Check for odd-length palindromes centered at s[i]\n",
    "        left1, right1 = expand_around_center(i, i)\n",
    "        # Check for even-length palindromes centered between s[i] and s[i+1]\n",
    "        left2, right2 = expand_around_center(i, i + 1)\n",
    "        \n",
    "        if right1 - left1 > end - start:\n",
    "            start, end = left1, right1\n",
    "        if right2 - left2 > end - start:\n",
    "            start, end = left2, right2\n",
    "    \n",
    "    return s[start:end + 1]\n",
    "\n",
    "# Example usage\n",
    "s = \"babad\"\n",
    "print(longest_palindromic_substring(s))  # Output: \"bab\" or \"aba\"\n",
    "\n",
    "s = \"cbbd\"\n",
    "print(longest_palindromic_substring(s))  # Output: \"bb\"\n"
   ]
  },
  {
   "cell_type": "code",
   "execution_count": null,
   "metadata": {},
   "outputs": [],
   "source": []
  },
  {
   "cell_type": "markdown",
   "metadata": {},
   "source": [
    "# Concatinate Strings "
   ]
  },
  {
   "cell_type": "code",
   "execution_count": null,
   "metadata": {},
   "outputs": [],
   "source": [
    "lst1 = ['W', 'a', 'w', 'b']\n",
    "lst2 = ['e', ' ', 'riting', 'log']\n",
    "lst3 = [x + y for x, y in zip(lst1, lst2)]\n",
    "print(lst3)"
   ]
  },
  {
   "cell_type": "markdown",
   "metadata": {},
   "source": [
    "# Split and join "
   ]
  },
  {
   "cell_type": "markdown",
   "metadata": {},
   "source": [
    "# split \n",
    "a = 'This is a string'\n",
    "li = a.split(' ')\n",
    "print(li)\n",
    "\n",
    "# join \n",
    " “ “.join(li)\n"
   ]
  }
 ],
 "metadata": {
  "kernelspec": {
   "display_name": "base",
   "language": "python",
   "name": "python3"
  },
  "language_info": {
   "codemirror_mode": {
    "name": "ipython",
    "version": 3
   },
   "file_extension": ".py",
   "mimetype": "text/x-python",
   "name": "python",
   "nbconvert_exporter": "python",
   "pygments_lexer": "ipython3",
   "version": "3.11.7"
  }
 },
 "nbformat": 4,
 "nbformat_minor": 2
}
