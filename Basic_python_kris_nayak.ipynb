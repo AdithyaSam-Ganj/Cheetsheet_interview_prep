{
 "cells": [
  {
   "cell_type": "markdown",
   "metadata": {},
   "source": [
    "# Time using time module "
   ]
  },
  {
   "cell_type": "code",
   "execution_count": 1,
   "metadata": {},
   "outputs": [
    {
     "name": "stdout",
     "output_type": "stream",
     "text": [
      "Sat Jun 15 12:41:07 IST 24\n"
     ]
    }
   ],
   "source": [
    "import time \n",
    "ltime = time.localtime()\n",
    "print(time.strftime('%a %b %d %H:%M:%S %Z %y' , ltime))"
   ]
  },
  {
   "cell_type": "markdown",
   "metadata": {},
   "source": [
    "# Prime numbers "
   ]
  },
  {
   "cell_type": "code",
   "execution_count": 20,
   "metadata": {},
   "outputs": [],
   "source": [
    "def print_ifprime(num) : \n",
    "    for i in range(2,int(num**0.5)):\n",
    "        print(i)\n",
    "        if(num%i) == 0 : \n",
    "            print('not a prime')\n",
    "            return \n",
    "        else :\n",
    "            pass \n",
    "    print('It is a prime')\n",
    "    return "
   ]
  },
  {
   "cell_type": "code",
   "execution_count": 21,
   "metadata": {},
   "outputs": [
    {
     "name": "stdout",
     "output_type": "stream",
     "text": [
      "It is a prime\n"
     ]
    }
   ],
   "source": [
    "print_ifprime(7)"
   ]
  },
  {
   "cell_type": "markdown",
   "metadata": {},
   "source": [
    "# Fibonache series "
   ]
  },
  {
   "cell_type": "code",
   "execution_count": 17,
   "metadata": {},
   "outputs": [
    {
     "name": "stdout",
     "output_type": "stream",
     "text": [
      "[0, 1, 1]\n",
      "[0, 1, 1, 2]\n",
      "[0, 1, 1, 2, 3]\n",
      "[0, 1, 1, 2, 3, 5]\n",
      "[0, 1, 1, 2, 3, 5, 8]\n",
      "[0, 1, 1, 2, 3, 5, 8, 13]\n",
      "[0, 1, 1, 2, 3, 5, 8, 13, 21]\n",
      "[0, 1, 1, 2, 3, 5, 8, 13, 21, 34]\n",
      "34\n"
     ]
    }
   ],
   "source": [
    "# Fibonacci Series using Dynamic Programming\n",
    "def fibonacci(n):\n",
    "    # Taking 1st two fibonacci numbers as 0 and 1\n",
    "    f = [0, 1]\n",
    "\n",
    "    for i in range(2, n+1):\n",
    "        f.append(f[i-1] + f[i-2])\n",
    "        print(f)\n",
    "    return f[n]\n",
    "\n",
    "print(fibonacci(9))\n",
    "\n",
    "# Fibonacci using recurssion \n",
    "def fibonacci(n) :\n",
    "    if n == 0 :\n",
    "        return 0 \n",
    "    elif n == 1 :\n",
    "        return 1     \n",
    "    elif n < 0 :\n",
    "        return 0 \n",
    "    else :\n",
    "        k = fibonacci(n-1) +  fibonacci(n-2) \n",
    "        return k \n",
    "\n",
    "# one line lambda \n",
    "fib = lambda n: n if n < 2 else fib(n-1) + fib(n-2)\n"
   ]
  },
  {
   "cell_type": "markdown",
   "metadata": {},
   "source": [
    "# Factorial "
   ]
  },
  {
   "cell_type": "code",
   "execution_count": 24,
   "metadata": {},
   "outputs": [],
   "source": [
    "# Recusrrion \n",
    "\n",
    "def rec_factorial(n):\n",
    "    if n == 1 :\n",
    "        return n \n",
    "    else : \n",
    "        return n*rec_factorial(n-1)\n",
    "    \n",
    "# using lambda function \n",
    "(lambda x , y : x * y if y > 0 else 1 )\n"
   ]
  },
  {
   "cell_type": "markdown",
   "metadata": {},
   "source": [
    "# lambda function "
   ]
  },
  {
   "cell_type": "code",
   "execution_count": 26,
   "metadata": {},
   "outputs": [],
   "source": [
    "n=input()\n",
    "\n",
    "print(reduce(lambda x,y:x*y,range(1,n+1)))\n",
    "\n",
    "a = lambda x: x + 10\n"
   ]
  },
  {
   "cell_type": "code",
   "execution_count": 5,
   "metadata": {},
   "outputs": [
    {
     "ename": "SyntaxError",
     "evalue": "invalid syntax (2657904956.py, line 3)",
     "output_type": "error",
     "traceback": [
      "\u001b[0;36m  Cell \u001b[0;32mIn[5], line 3\u001b[0;36m\u001b[0m\n\u001b[0;31m    np.array(:,0)\u001b[0m\n\u001b[0m             ^\u001b[0m\n\u001b[0;31mSyntaxError\u001b[0m\u001b[0;31m:\u001b[0m invalid syntax\n"
     ]
    }
   ],
   "source": [
    "import numpy as np \n",
    "\n",
    "np.array(:,0)"
   ]
  },
  {
   "cell_type": "code",
   "execution_count": null,
   "metadata": {},
   "outputs": [],
   "source": []
  }
 ],
 "metadata": {
  "kernelspec": {
   "display_name": "base",
   "language": "python",
   "name": "python3"
  },
  "language_info": {
   "codemirror_mode": {
    "name": "ipython",
    "version": 3
   },
   "file_extension": ".py",
   "mimetype": "text/x-python",
   "name": "python",
   "nbconvert_exporter": "python",
   "pygments_lexer": "ipython3",
   "version": "3.11.7"
  }
 },
 "nbformat": 4,
 "nbformat_minor": 2
}
