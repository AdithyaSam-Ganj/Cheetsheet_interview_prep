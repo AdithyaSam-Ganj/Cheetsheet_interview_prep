{
 "cells": [
  {
   "cell_type": "markdown",
   "metadata": {},
   "source": [
    "# Quick Sort "
   ]
  },
  {
   "cell_type": "code",
   "execution_count": 7,
   "metadata": {},
   "outputs": [],
   "source": [
    "li = [2,1,3,4,2,5,6,8]\n",
    "\n",
    "\n",
    "# implmenting quick sort \n",
    "\n",
    "# \n",
    "# Copying \n",
    "\n",
    "# implementing Kth largest \n",
    "# sorting everything to the left so we need len - k \n",
    "k =3\n",
    "ar = [3,2,1,5,6,4]\n",
    "\n",
    "k = len(ar) - k \n",
    "\n",
    "def quicksort(l , r) : \n",
    "\n",
    "    p , pivot = l , ar[r]\n",
    "    \n",
    "    for i in range(l, r ) :\n",
    "\n",
    "        if ar[i] <= pivot:\n",
    "            \n",
    "            ar[i] , ar[p] = ar[p] , ar[i]\n",
    "            p += 1\n",
    "\n",
    "    ar[p] , ar[r] = ar[r] , ar[p]\n",
    "\n",
    "    if p < k : quicksort( p , r)\n",
    "    elif p > k : quicksort( l , p)\n",
    "    else : return(ar[k])\n",
    "\n",
    "quicksort(0, len(ar) - 1 )"
   ]
  },
  {
   "cell_type": "code",
   "execution_count": null,
   "metadata": {},
   "outputs": [],
   "source": []
  }
 ],
 "metadata": {
  "kernelspec": {
   "display_name": "base",
   "language": "python",
   "name": "python3"
  },
  "language_info": {
   "codemirror_mode": {
    "name": "ipython",
    "version": 3
   },
   "file_extension": ".py",
   "mimetype": "text/x-python",
   "name": "python",
   "nbconvert_exporter": "python",
   "pygments_lexer": "ipython3",
   "version": "3.11.7"
  }
 },
 "nbformat": 4,
 "nbformat_minor": 2
}
